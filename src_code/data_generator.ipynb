{
 "cells": [
  {
   "cell_type": "code",
   "execution_count": null,
   "id": "830967fd",
   "metadata": {},
   "outputs": [],
   "source": [
    "import os\n",
    "import numpy as np\n",
    "import pandas as pd\n",
    "from shapely.geometry import LineString, Point\n",
    "from time import sleep\n",
    "from tqdm import tqdm\n",
    "from interaction_process.process_utils.mapinfo import *\n",
    "from interaction_process.process_utils.datamerge import *\n",
    "import torch.nn as nn\n",
    "import torch.nn.functional as F\n",
    "from tqdm import tqdm\n",
    "\n",
    "import matplotlib.pyplot as plt\n",
    "%matplotlib inline\n",
    "\n",
    "import pickle\n",
    "import gc"
   ]
  },
  {
   "cell_type": "markdown",
   "id": "7a05fcfd",
   "metadata": {},
   "source": [
    "### Load some necessary files for data preparation\n",
    "\n",
    "1. Target vehicle index pickle list: <code>caselist</code> gives all possible case_ids and <code>carid</code> gives all car_ids that have complete 4s seconds. There are 4 possible options: <code>train_index</code>(training), <code>val_index</code>(choose one target vehicle from each case in the validation set), <code>test_index</code>(testing), <code>val_all_index</code>(choose all possible target vehicles from each case in the validation set). \n",
    "\n",
    "2. <code>Alane.pkl</code> removes all undrivable lanes from each scenarios\n",
    "\n",
    "3. <code>laneinformation</code> uses <code>get_all_mapinfo</code> to extract maps/lane information from <code>.osm</code> fiiles. It is a dictionary whose keys are scenario names.\n",
    "\n",
    "4. <code>vision_</code> defines the minimum vision range for each vehicle. "
   ]
  },
  {
   "cell_type": "code",
   "execution_count": null,
   "id": "e787bb9f",
   "metadata": {
    "scrolled": true
   },
   "outputs": [],
   "source": [
    "with open('./interaction_data/reference/val_index.pickle', 'rb') as handle:\n",
    "    s = pickle.load(handle)\n",
    "caselist, carid = s[0], s[1]\n",
    "\n",
    "with open('Alane.pkl', 'rb') as f:\n",
    "    Dnew = pickle.load(f)\n",
    "\n",
    "laneinformation = get_all_mapinfo('./interaction_data/maps/', segment=5, shred=50)\n",
    "vision_ = np.ones(17)*12"
   ]
  },
  {
   "cell_type": "markdown",
   "id": "27a12c75",
   "metadata": {},
   "source": [
    "### Creat the parameter dictionary and define the Dataset object\n",
    "\n",
    "1. <code>datadir</code> is the position of the corresponding set; <code>max_segment</code> is the maximum number of vectors for each spline, <code>max_distance</code> is the maximum lateral distance.\n",
    "2. <nana>train=True</code> for both training and validation sets, otherwise <nano>False</nano>."
   ]
  },
  {
   "cell_type": "code",
   "execution_count": null,
   "id": "4483fcf2",
   "metadata": {},
   "outputs": [],
   "source": [
    "paradict = dict(device='cpu', datadir='./interaction_data/val/', mapdir='./interaction_data/maps/', train=False, max_segment=5,\n",
    "           max_distance=30., vision=vision_, case_list=caselist, car_id=carid, laneinfo=laneinformation, alane=Dnew)\n",
    "int_dst = InteractionDataset(paradict)"
   ]
  },
  {
   "cell_type": "markdown",
   "id": "7d35e371",
   "metadata": {},
   "source": [
    "The block below is for generating the training set, to make sure that the memory is enough, we split it into 4 <code>.npz</code> files. \n",
    "If the memory of your device is enough, just combine them into one."
   ]
  },
  {
   "cell_type": "code",
   "execution_count": null,
   "id": "f7cd8d76",
   "metadata": {},
   "outputs": [],
   "source": [
    "cut = [0,12000, 24000, 36000, 47584]\n",
    "for c in range(1,5):\n",
    "    T = []\n",
    "    M = []\n",
    "    Y = []\n",
    "    nb_agents = []\n",
    "    nb_splines = []\n",
    "    L = []\n",
    "    S = []\n",
    "    A = []\n",
    "    for i in tqdm(range(cut[c-1], cut[c])):\n",
    "        for car in carid[i][:8]:\n",
    "            x1, x2, y, nba, nbs, l, adj, s = int_dst.preprocess(caselist[i], car)\n",
    "            gc.disable()\n",
    "            T.append(x1)\n",
    "            M.append(x2)\n",
    "            Y.append(y)\n",
    "            nb_agents.append(nba)\n",
    "            nb_splines.append(nbs)\n",
    "            L.append(l)\n",
    "            S.append(s)\n",
    "            A.append(adj)\n",
    "            gc.enable()\n",
    "    T = np.array(T)\n",
    "    M = np.array(M)\n",
    "    Y = np.array(Y).squeeze()\n",
    "    N_agents = np.array(nb_agents)\n",
    "    N_splines = np.array(nb_splines)\n",
    "    L = np.array(L)\n",
    "    S = np.array(S)\n",
    "    A = np.array(A)\n",
    "    np.savez_compressed('./interaction_merge/train'+str(c), trajectory=T, maps=M, lanefeature=L, adjacency=A,\n",
    "                        nbagents=N_agents, nbsplines= N_splines, intention=Y, lanescore=S)"
   ]
  },
  {
   "cell_type": "markdown",
   "id": "a8c12fce",
   "metadata": {},
   "source": [
    "The two blocks below are for generating the smaller validation set (one target vehicle each case) and the test set."
   ]
  },
  {
   "cell_type": "code",
   "execution_count": null,
   "id": "b7bde727",
   "metadata": {},
   "outputs": [],
   "source": [
    "T = []\n",
    "M = []\n",
    "Y = []\n",
    "nb_agents = []\n",
    "nb_splines = []\n",
    "L = []\n",
    "S = []\n",
    "A = []\n",
    "for i in tqdm(range(len(caselist))):\n",
    "    x1, x2, y, nba, nbs, l, adj, s = int_dst.preprocess(caselist[i], carid[i])\n",
    "    gc.disable()\n",
    "    T.append(x1)\n",
    "    M.append(x2)\n",
    "    Y.append(y)\n",
    "    nb_agents.append(nba)\n",
    "    nb_splines.append(nbs)\n",
    "    L.append(l)\n",
    "    S.append(s)\n",
    "    A.append(adj)\n",
    "    gc.enable()\n",
    "    \n",
    "T = np.array(T)\n",
    "M = np.array(M)\n",
    "Y = np.array(Y).squeeze()\n",
    "N_agents = np.array(nb_agents)\n",
    "N_splines = np.array(nb_splines)\n",
    "L = np.array(L)\n",
    "S = np.array(S)\n",
    "A = np.array(A)\n",
    "np.savez_compressed('./interaction_merge/val', trajectory=T, maps=M, lanefeature=L, adjacency=A,\n",
    "                    nbagents=N_agents, nbsplines= N_splines, intention=Y, lanescore=S)"
   ]
  },
  {
   "cell_type": "code",
   "execution_count": null,
   "id": "91a614b7",
   "metadata": {},
   "outputs": [],
   "source": [
    "T = []\n",
    "M = []\n",
    "nb_agents = []\n",
    "nb_splines = []\n",
    "L = []\n",
    "A = []\n",
    "Z = []\n",
    "R = []\n",
    "for i in tqdm(range(len(caselist))):\n",
    "    x1, x2, nba, nbs, l, adj, ori, ang = int_dst.preprocess_test(caselist[i], carid[i], i)\n",
    "    gc.disable()\n",
    "    T.append(x1)\n",
    "    M.append(x2)\n",
    "    L.append(l)\n",
    "    Z.append(ori)\n",
    "    nb_agents.append(nba)\n",
    "    nb_splines.append(nbs)\n",
    "    R.append(ang)\n",
    "    A.append(adj)\n",
    "    gc.enable()\n",
    "T = np.array(T)\n",
    "M = np.array(M)\n",
    "N_agents = np.array(nb_agents)\n",
    "N_splines = np.array(nb_splines)\n",
    "L = np.array(L)\n",
    "Z = np.array(Z)\n",
    "R = np.array(R)\n",
    "A = np.array(A)\n",
    "np.savez_compressed('./interaction_merge/test', trajectory=T, maps=M, adjacency=A, lanefeature=L,\n",
    "                    nbagents=N_agents, nbsplines= N_splines, radian=R, origin=Z)"
   ]
  },
  {
   "cell_type": "markdown",
   "id": "555e2409",
   "metadata": {},
   "source": [
    "The block below is for generating the larger validation set (containing all possible target vehicles in the validation set)."
   ]
  },
  {
   "cell_type": "code",
   "execution_count": null,
   "id": "e2df3ef2",
   "metadata": {},
   "outputs": [],
   "source": [
    "# generate all possible cases in the validation set\n",
    "T = []\n",
    "M = []\n",
    "Y = []\n",
    "nb_agents = []\n",
    "nb_splines = []\n",
    "L = []\n",
    "S = []\n",
    "A = []\n",
    "for i in tqdm(range(len(caselist))):\n",
    "    for car in carid[i]:\n",
    "        x1, x2, y, nba, nbs, l, adj, s = int_dst.preprocess(caselist[i], car)\n",
    "        gc.disable()\n",
    "        T.append(x1)\n",
    "        M.append(x2)\n",
    "        Y.append(y)\n",
    "        nb_agents.append(nba)\n",
    "        nb_splines.append(nbs)\n",
    "        L.append(l)\n",
    "        S.append(s)\n",
    "        A.append(adj)\n",
    "        gc.enable()\n",
    "T = np.array(T)\n",
    "M = np.array(M)\n",
    "Y = np.array(Y).squeeze()\n",
    "N_agents = np.array(nb_agents)\n",
    "N_splines = np.array(nb_splines)\n",
    "L = np.array(L)\n",
    "S = np.array(S)\n",
    "A = np.array(A)\n",
    "np.savez_compressed('./interaction_merge/valall', trajectory=T, maps=M, lanefeature=L, adjacency=A,\n",
    "                    nbagents=N_agents, nbsplines= N_splines, intention=Y, lanescore=S)"
   ]
  }
 ],
 "metadata": {
  "kernelspec": {
   "display_name": "Python 3 (ipykernel)",
   "language": "python",
   "name": "python3"
  },
  "language_info": {
   "codemirror_mode": {
    "name": "ipython",
    "version": 3
   },
   "file_extension": ".py",
   "mimetype": "text/x-python",
   "name": "python",
   "nbconvert_exporter": "python",
   "pygments_lexer": "ipython3",
   "version": "3.9.12"
  }
 },
 "nbformat": 4,
 "nbformat_minor": 5
}
