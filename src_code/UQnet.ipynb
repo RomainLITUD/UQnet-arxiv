{
 "cells": [
  {
   "cell_type": "code",
   "execution_count": null,
   "metadata": {},
   "outputs": [],
   "source": [
    "from heatmap_model.interaction_model import UQnet,TrajModel\n",
    "import numpy as np\n",
    "import sys\n",
    "import matplotlib.pyplot as plt\n",
    "%matplotlib inline \n",
    "\n",
    "import torch\n",
    "from torch import nn, Tensor\n",
    "import torchvision.datasets as dataset\n",
    "from torch.optim.lr_scheduler import StepLR\n",
    "import datetime\n",
    "\n",
    "from scipy.special import expit\n",
    "\n",
    "from heatmap_model.utils import *\n",
    "from heatmap_model.train import *\n",
    "from heatmap_model.interaction_dataset import *\n",
    "from heatmap_model.losses import *\n",
    "from config import *\n",
    "\n",
    "from absl import logging\n",
    "logging._warn_preinit_stderr = 0\n",
    "logging.warning('Worrying Stuff')\n",
    "\n",
    "device = 'cuda' if torch.cuda.is_available() else 'cpu'\n",
    "print(f'Using {device} device')"
   ]
  },
  {
   "cell_type": "code",
   "execution_count": null,
   "metadata": {},
   "outputs": [],
   "source": [
    "# change hyper-parameters here\n",
    "paralist['resolution'] = 1. # change to any value during test\n",
    "paralist['encoder_attention_size'] = 128\n",
    "paralist['use_sem'] = False\n",
    "paralist['epoches'] = 8\n",
    "paralist['mode'] = 'lanescore'\n",
    "paralist['prob_mode'] = 'ce'\n",
    "paralist['inference'] = False # change to True during test\n",
    "paralist['batch_size'] = 16"
   ]
  },
  {
   "cell_type": "code",
   "execution_count": null,
   "metadata": {},
   "outputs": [],
   "source": [
    "# set test=True during test, drivale is optional\n",
    "model = UQnet(paralist, test=False, drivable=False).to(device)\n",
    "#testset = InteractionDataset(['val'], 'val', paralist, mode=paralist['mode'], filters=False)\n",
    "#testset = InteractionDataset(['test'], 'test', paralist, mode=paralist['mode'], filters=False)"
   ]
  },
  {
   "cell_type": "code",
   "execution_count": null,
   "metadata": {},
   "outputs": [],
   "source": [
    "# validation set\n",
    "validationset = InteractionDataset(['val'], 'val', paralist, paralist['mode'], filters=False)\n",
    "validation_loader = DataLoader(validationset, batch_size=paralist['batch_size'], shuffle=False)"
   ]
  },
  {
   "cell_type": "code",
   "execution_count": null,
   "metadata": {},
   "outputs": [],
   "source": [
    "BATCH_SIZE = paralist['batch_size']\n",
    "EPOCH_NUMBER = paralist['epochs']\n",
    "loss = OverAllLoss(paralist).to(device)"
   ]
  },
  {
   "cell_type": "code",
   "execution_count": null,
   "metadata": {},
   "outputs": [],
   "source": [
    "# train set\n",
    "trainset = InteractionDataset(['train1', 'train2','train3','train4'], 'train', paralist, paralist['mode'], filters=False)"
   ]
  },
  {
   "cell_type": "code",
   "execution_count": null,
   "metadata": {
    "scrolled": true
   },
   "outputs": [],
   "source": [
    "# train 7 models to compose an ensemble\n",
    "for order in range(7):\n",
    "    model = UQnet(paralist).to(device)\n",
    "    optimizer = torch.optim.Adam(model.parameters(), lr=0.001)\n",
    "    scheduler_heatmap = StepLR(optimizer, step_size=1, gamma=0.975)\n",
    "    train_model(EPOCH_NUMBER, BATCH_SIZE, trainset, model, optimizer, validation_loader, loss,\n",
    "                  scheduler_heatmap, paralist, mode=paralist['mode'])\n",
    "    torch.save(model.encoder.state_dict(), './interactionDE/encoder'+str(order)+'.pt')\n",
    "    torch.save(model.decoder.state_dict(), './interactionDE/decoder'+str(order)+'.pt')"
   ]
  },
  {
   "cell_type": "code",
   "execution_count": null,
   "metadata": {},
   "outputs": [],
   "source": [
    "M, T, Nm, Na, Yp, Ua, Um, H, Y = inference_model(model, './interactionDE/', 'val', 1, testset, paralist, \n",
    "                                              k=6, test=False, return_heatmap=True, mode=paralist['mode'], batch=4)"
   ]
  },
  {
   "cell_type": "code",
   "execution_count": null,
   "metadata": {},
   "outputs": [],
   "source": [
    "FDE = ComputeError(Yp,Y, r=1, sh=6)"
   ]
  }
 ],
 "metadata": {
  "kernelspec": {
   "display_name": "Python 3 (ipykernel)",
   "language": "python",
   "name": "python3"
  },
  "language_info": {
   "codemirror_mode": {
    "name": "ipython",
    "version": 3
   },
   "file_extension": ".py",
   "mimetype": "text/x-python",
   "name": "python",
   "nbconvert_exporter": "python",
   "pygments_lexer": "ipython3",
   "version": "3.9.12"
  }
 },
 "nbformat": 4,
 "nbformat_minor": 2
}
