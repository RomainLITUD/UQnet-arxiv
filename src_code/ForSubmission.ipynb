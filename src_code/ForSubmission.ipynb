{
 "cells": [
  {
   "cell_type": "code",
   "execution_count": null,
   "metadata": {},
   "outputs": [],
   "source": [
    "from heatmap_model.interaction_model import UQnet, TrajModel\n",
    "import numpy as np\n",
    "import sys\n",
    "import matplotlib.pyplot as plt\n",
    "%matplotlib inline \n",
    "\n",
    "import torch\n",
    "from torch import nn, Tensor\n",
    "import torchvision.datasets as dataset\n",
    "from torch.optim.lr_scheduler import StepLR\n",
    "import datetime\n",
    "\n",
    "from scipy.special import expit\n",
    "\n",
    "from heatmap_model.utils import *\n",
    "from heatmap_model.train import *\n",
    "from heatmap_model.interaction_dataset import *\n",
    "from heatmap_model.inference import *\n",
    "from heatmap_model.losses import *\n",
    "from config import *\n",
    "\n",
    "from absl import logging\n",
    "logging._warn_preinit_stderr = 0\n",
    "logging.warning('Worrying Stuff')\n",
    "\n",
    "device = 'cuda' if torch.cuda.is_available() else 'cpu'\n",
    "print(f'Using {device} device')"
   ]
  },
  {
   "cell_type": "markdown",
   "metadata": {},
   "source": [
    "### Run this file sequentially to generate the submission file for INTERPRET challenge\n",
    "\n",
    "- We only use the first model in the Deep Ensemble for the leaderboard"
   ]
  },
  {
   "cell_type": "code",
   "execution_count": null,
   "metadata": {},
   "outputs": [],
   "source": [
    "# change hyper-parameters here\n",
    "paralist['resolution'] = 0.5\n",
    "paralist['encoder_attention_size'] = 128\n",
    "paralist['use_sem'] = False\n",
    "paralist['mode'] = 'lanescore'\n",
    "paralist['prob_mode'] = 'ce'\n",
    "model = UQnet(paralist, test=True).to(device)\n",
    "trajmodel = TrajModel().to(device)\n",
    "testset = InteractionDataset(['test'], 'test', paralist, mode=paralist['mode'], filters=False)"
   ]
  },
  {
   "cell_type": "code",
   "execution_count": null,
   "metadata": {},
   "outputs": [],
   "source": [
    "Yp, H = InferenceModel(model, './interactionDE/', 1, testset, paralist)\n",
    "print(H.shape, Yp.shape)\n",
    "Generate_csv(trajmodel, './interactionDE/', Yp)"
   ]
  }
 ],
 "metadata": {
  "kernelspec": {
   "display_name": "Python 3 (ipykernel)",
   "language": "python",
   "name": "python3"
  },
  "language_info": {
   "codemirror_mode": {
    "name": "ipython",
    "version": 3
   },
   "file_extension": ".py",
   "mimetype": "text/x-python",
   "name": "python",
   "nbconvert_exporter": "python",
   "pygments_lexer": "ipython3",
   "version": "3.9.12"
  }
 },
 "nbformat": 4,
 "nbformat_minor": 2
}
