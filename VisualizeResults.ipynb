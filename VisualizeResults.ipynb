{
 "cells": [
  {
   "cell_type": "code",
   "execution_count": 1,
   "id": "a08307d4",
   "metadata": {},
   "outputs": [],
   "source": [
    "from vis_utils.visualization import *\n",
    "from heatmap_model.utils import ComputeError\n",
    "from scipy.spatial.distance import cdist, euclidean\n",
    "import pickle\n",
    "data = np.load('./results/val_uncertainty_f.npz', allow_pickle=True)\n",
    "Umv = data['epistemic']\n",
    "Uav = data['aleatoric']\n",
    "datat = np.load('./results/test_ust.npz', allow_pickle=True)\n",
    "Umt = datat['epistemic']\n",
    "Uat = datat['aleatoric']"
   ]
  },
  {
   "cell_type": "code",
   "execution_count": 2,
   "id": "253b2e24",
   "metadata": {},
   "outputs": [],
   "source": [
    "# data = np.load('./results/test_st.npz', allow_pickle=True)\n",
    "# Ht = data['heatmap']\n",
    "# Yt = data['points']\n",
    "datav = np.load('./results/val_results_f.npz', allow_pickle=True)\n",
    "Hv = datav['heatmap']\n",
    "Yv = datav['points']\n",
    "# visdata = np.load('./interaction_merge/test.npz', allow_pickle=True)\n",
    "# origint = visdata['origin']\n",
    "# radiant = visdata['radian']\n",
    "# visdatav = np.load('./interaction_merge/vis_val.npz', allow_pickle=True)\n",
    "# originv = visdatav['origin']\n",
    "# radianv = visdatav['radian']"
   ]
  },
  {
   "cell_type": "code",
   "execution_count": null,
   "id": "16f5e183",
   "metadata": {},
   "outputs": [],
   "source": [
    "U_aleatoric = np.concatenate([Uat, Uav])\n",
    "U_epistemic = np.concatenate([Umt, Umv])\n",
    "H = np.concatenate([Ht, Hv], axis=0)\n",
    "Y = np.concatenate([Yt, Yv], axis=0)\n",
    "origin = np.concatenate([origint, originv], axis=0)\n",
    "radian = np.concatenate([radiant, radianv])\n",
    "print(H.shape, Y.shape, origin.shape, radian.shape)"
   ]
  },
  {
   "cell_type": "code",
   "execution_count": null,
   "id": "25f8155e",
   "metadata": {},
   "outputs": [],
   "source": [
    "with open('./interaction_data/data/reference/test_index.pickle', 'rb') as handle:\n",
    "    s = pickle.load(handle)\n",
    "caselist, carid = s[0], s[1]\n",
    "filenames = os.listdir('./interaction_data/data/test/')\n",
    "filenames.sort()\n",
    "\n",
    "csvfilest = [filenames[int(c[:-6])-1] for c in caselist]\n",
    "case_idt = [int(c[-6:]) for c in caselist]\n",
    "track_idt = [int(c) for c in carid]\n",
    "\n",
    "with open('./interaction_data/data/reference/val_index.pickle', 'rb') as handle:\n",
    "    s = pickle.load(handle)\n",
    "caselist, carid = s[0], s[1]\n",
    "filenames = os.listdir('./interaction_data/data/val/')\n",
    "filenames.sort()\n",
    "\n",
    "csvfilesv = [filenames[int(c[:-6])-1] for c in caselist]\n",
    "case_idv = [int(c[-6:]) for c in caselist]\n",
    "track_idv = [int(c) for c in carid]\n",
    "\n",
    "csvfiles = csvfilest+csvfilesv\n",
    "case_id = case_idt+case_idv\n",
    "track_id = track_idt+track_idv"
   ]
  },
  {
   "cell_type": "code",
   "execution_count": null,
   "id": "e00bf8d6",
   "metadata": {},
   "outputs": [],
   "source": [
    "DATA = {\n",
    "    'files': csvfiles,\n",
    "    'case_id': case_id,\n",
    "    'track_id': track_id\n",
    "}"
   ]
  },
  {
   "cell_type": "code",
   "execution_count": null,
   "id": "dd94dad6",
   "metadata": {},
   "outputs": [],
   "source": [
    "with open('reference.pickle', 'wb') as f:\n",
    "    pickle.dump(DATA, f)"
   ]
  },
  {
   "cell_type": "code",
   "execution_count": null,
   "id": "976e589e",
   "metadata": {},
   "outputs": [],
   "source": [
    "np.savez_compressed('DATA', heatmap=H, prediction=Y, aleatoric=U_aleatoric/np.amax(U_aleatoric), epistemic=U_epistemic/np.amax(U_epistemic), origin=origin, radian=radian)"
   ]
  },
  {
   "cell_type": "code",
   "execution_count": null,
   "id": "13949a61",
   "metadata": {},
   "outputs": [],
   "source": [
    "x = np.arange(0,46,0.5)\n",
    "y = np.arange(0,87,0.5)\n",
    "xc, yc = np.meshgrid(x,y)\n",
    "xr = xc.T\n",
    "yr = yc.T\n",
    "X = np.stack([xc, yc], -1).reshape((-1,2))"
   ]
  },
  {
   "cell_type": "code",
   "execution_count": 3,
   "id": "8ba74f25",
   "metadata": {},
   "outputs": [],
   "source": [
    "with open('./interaction_data/data/reference/test_index.pickle', 'rb') as handle:\n",
    "    s = pickle.load(handle)\n",
    "caselist, carid = s[0], s[1]\n",
    "\n",
    "file_id = [int(case[:-6])-1 for case in caselist]\n",
    "filenames = os.listdir('./interaction_data/data/test/')\n",
    "filenames.sort()\n",
    "\n",
    "#track_id = int(carid[index])\n",
    "#file_to_read = filenames[file_id]\n",
    "D = np.load('./interaction_merge/val.npz', allow_pickle=True)\n",
    "Y = D['intention']\n",
    "Dv = np.load('./results/val_results_f.npz', allow_pickle=True)\n",
    "Yp = Dv['points']"
   ]
  },
  {
   "cell_type": "code",
   "execution_count": null,
   "id": "f848df16",
   "metadata": {},
   "outputs": [],
   "source": [
    "Visualize(index=np.argsort(Umt)[-4], title='Um='+str(round(Umt[np.argsort(Umt)[-4]],2)), xrange=[-25,25], yrange=[-25, 75], \n",
    "          resolution=1., stage='test', save=True, figname='um1')"
   ]
  },
  {
   "cell_type": "code",
   "execution_count": null,
   "id": "1e323094",
   "metadata": {},
   "outputs": [],
   "source": [
    "Ua_in = np.array([Uat[i] for i in range(len(Uat)) if file_id[i] not in [4,5,6,7,8,9]])\n",
    "Ua_out = np.array([Uat[i] for i in range(len(Uat)) if file_id[i] in [4,5,6,7,8,9]])\n",
    "Um_in = np.array([Umt[i] for i in range(len(Uat)) if file_id[i] not in [4,5,6,7,8,9]])\n",
    "Um_out = np.array([Umt[i] for i in range(len(Uat)) if file_id[i] in [4,5,6,7,8,9]])"
   ]
  },
  {
   "cell_type": "code",
   "execution_count": null,
   "id": "f85ca547",
   "metadata": {},
   "outputs": [],
   "source": [
    "Ua_outin = np.array([Ua_out[i] for i in range(len(Um_out)) if Um_out[i]<0.2])"
   ]
  },
  {
   "cell_type": "code",
   "execution_count": null,
   "id": "e3a9e647",
   "metadata": {},
   "outputs": [],
   "source": [
    "import seaborn as sns\n",
    "from scipy import stats\n",
    "plt.figure(figsize=(8,6))\n",
    "plt.hist([Um_out, Um_in, Umv], bins=20,  \n",
    "         color = ['skyblue', 'yellowgreen', 'tomato'], log=False, density=True, rwidth=0.8, \n",
    "         align='mid', alpha=0.6, label = ['OOD', 'ID', 'validation'])\n",
    "sns.kdeplot(np.array(Umv), color='blue', label='validation set')\n",
    "sns.kdeplot(np.array(Um_in), color='green', label='ID')\n",
    "#sns.kdeplot(np.array(U_st), color='red', label='OOD-same type')\n",
    "sns.kdeplot(np.array(Um_out), color='gray', label='OOD-new type')\n",
    "plt.xlabel('entropy(nats)', fontsize=16)\n",
    "plt.ylabel('probability density', fontsize=16)\n",
    "#plt.yscale('log')\n",
    "plt.xlim(0,0.8)\n",
    "#plt.ylim(0.1,100)\n",
    "plt.legend(fontsize=16)\n",
    "plt.xticks(fontsize=14)\n",
    "plt.title('Epistemic uncertainty distribution', fontsize=18)\n",
    "plt.yticks(fontsize=14)\n",
    "#plt.savefig('./figs/Umdist.png', dpi=400)\n",
    "plt.show()"
   ]
  },
  {
   "cell_type": "code",
   "execution_count": null,
   "id": "c278942d",
   "metadata": {},
   "outputs": [],
   "source": [
    "from scipy.interpolate import make_interp_spline, BSpline, interp1d\n",
    "x_new = np.linspace(0,2, 300)\n",
    "\n",
    "plt.rcParams[\"figure.figsize\"] = [8.00, 6.0]\n",
    "plt.rcParams[\"figure.autolayout\"] = True\n",
    "#plt.subplot(211)\n",
    "y1, binEdges1 = np.histogram(np.sqrt(np.exp(Uav)/2/math.pi/math.e-0.49), bins=30, density=True)\n",
    "y2, binEdges2 = np.histogram(np.sqrt(np.exp(Ua_in)/2/math.pi/math.e-0.49), bins=30, density=True)\n",
    "y3, binEdges3 = np.histogram(np.sqrt(np.exp(Ua_out)/2/math.pi/math.e-0.49), bins=30, density=True)\n",
    "\n",
    "bincenters1 = binEdges1[:-1]#0.5 * (binEdges[1:] + binEdges[:-1])\n",
    "bincenters2 = binEdges2[:-1]\n",
    "bincenters3 = binEdges3[:-1]\n",
    "\n",
    "x_new1 = np.linspace(bincenters1.min(), bincenters1.max(),90)\n",
    "f1 = interp1d(bincenters1, y1, kind='quadratic')\n",
    "y_smooth1=f1(x_new1)\n",
    "x_new2 = np.linspace(bincenters2.min(), bincenters2.max(),90)\n",
    "f2 = interp1d(bincenters2, y2, kind='quadratic')\n",
    "y_smooth2=f2(x_new2)\n",
    "x_new3 = np.linspace(bincenters3.min(), bincenters3.max(),90)\n",
    "f3 = interp1d(bincenters3, y3, kind='quadratic')\n",
    "y_smooth3=f3(x_new3)\n",
    "\n",
    "# plt.hist([Um_out, Um_in, Umv], bins=20,  \n",
    "#          color = ['skyblue', 'yellowgreen', 'tomato'], log=False, density=True, rwidth=0.8, \n",
    "#          align='mid', alpha=0.8)#, label = ['validation set', 'ID', 'OOD-same type', 'OOD-new type'])\n",
    "plt.ylabel('probability density', fontsize=16)\n",
    "plt.xticks(fontsize=14)\n",
    "plt.yticks(fontsize=14)\n",
    "plt.title('rectified aleatoric uncertainty', fontsize=18)\n",
    "\n",
    "plt.plot(x_new1,y_smooth1, '-', c='red', label='validation', alpha=0.7)\n",
    "plt.plot(x_new2,y_smooth2, '-', c='blue', label='ID', alpha=0.7)\n",
    "plt.plot(x_new3,y_smooth3, '-', c='green', label='OOD', alpha=0.7)\n",
    "#plt.vlines(x = 2.15, ymin=0, ymax=2.5, linestyles='--', colors = 'black', label = 'added Gaussian')\n",
    "\n",
    "plt.xlim(0, 2.0)\n",
    "plt.ylim(0., 3.5)\n",
    "# d1 = np.zeros(len(y_smooth1))\n",
    "# plt.fill_between(x_new1, y_smooth1, where=y_smooth1>d1, interpolate=False, color='black', alpha=0.2)\n",
    "# d2 = np.zeros(len(y_smooth2))\n",
    "# plt.fill_between(x_new2, y_smooth2, where=y_smooth2>d2, interpolate=False, color='blue', alpha=0.2)\n",
    "# d3 = np.zeros(len(y_smooth3))\n",
    "# plt.fill_between(x_new3, y_smooth3, where=y_smooth3>d3, interpolate=False, color='green', alpha=0.2)\n",
    "#plt.xscale('log')\n",
    "plt.xlabel('$RMSE_{lb}$ (m)', fontsize=16)\n",
    "plt.legend(fontsize=16)\n",
    "#plt.grid()\n",
    "plt.savefig('./figs/Uarect.png', dpi=400)\n",
    "plt.show()"
   ]
  },
  {
   "cell_type": "code",
   "execution_count": 4,
   "id": "dbd15564",
   "metadata": {
    "scrolled": true
   },
   "outputs": [
    {
     "name": "stdout",
     "output_type": "stream",
     "text": [
      "minFDE: 0.8494725648532563 m\n",
      "minMR: 5.350178056638969 %\n",
      "minFDE: 0.8494725648532563 m\n",
      "minMR: 5.350178056638969 %\n",
      "minFDE: 0.8578735371479831 m\n",
      "minMR: 5.457533298737243 %\n",
      "minFDE: 0.8567268806414676 m\n",
      "minMR: 5.414288185435046 %\n",
      "minFDE: 0.8658228961774963 m\n",
      "minMR: 5.568793575147825 %\n",
      "minFDE: 0.8624053437357906 m\n",
      "minMR: 5.409937340040597 %\n",
      "minFDE: 0.8721906834126797 m\n",
      "minMR: 5.666666666666666 %\n",
      "minFDE: 0.8689945573473571 m\n",
      "minMR: 5.45945945945946 %\n",
      "minFDE: 0.8776993502279417 m\n",
      "minMR: 5.732425469267575 %\n",
      "minFDE: 0.8762243637606981 m\n",
      "minMR: 5.529996319470003 %\n",
      "minFDE: 0.8850373248480959 m\n",
      "minMR: 5.838112249694462 %\n",
      "minFDE: 0.8818551222470099 m\n",
      "minMR: 5.546676694556736 %\n",
      "minFDE: 0.8917967606725804 m\n",
      "minMR: 5.9388814145685185 %\n",
      "minFDE: 0.8868605482687046 m\n",
      "minMR: 5.583317316932539 %\n",
      "minFDE: 0.8985667571255463 m\n",
      "minMR: 6.044226044226044 %\n",
      "minFDE: 0.8910775086340177 m\n",
      "minMR: 5.611793611793612 %\n",
      "minFDE: 0.906854020595424 m\n",
      "minMR: 6.175198632203561 %\n",
      "minFDE: 0.8955175436202021 m\n",
      "minMR: 5.622045660263502 %\n",
      "minFDE: 0.914453525946765 m\n",
      "minMR: 6.311779242174629 %\n",
      "minFDE: 0.9007674151902871 m\n",
      "minMR: 5.683690280065898 %\n",
      "minFDE: 0.919538666302123 m\n",
      "minMR: 6.391730830081214 %\n",
      "minFDE: 0.9081286775368165 m\n",
      "minMR: 5.811623246492986 %\n",
      "minFDE: 0.9265275310008914 m\n",
      "minMR: 6.497297297297297 %\n",
      "minFDE: 0.9133598557337832 m\n",
      "minMR: 5.837837837837838 %\n",
      "minFDE: 0.933258738731566 m\n",
      "minMR: 6.609004213794632 %\n",
      "minFDE: 0.9200304019995885 m\n",
      "minMR: 5.9436682191173205 %\n",
      "minFDE: 0.940325502101319 m\n",
      "minMR: 6.748605895072266 %\n",
      "minFDE: 0.926849129874545 m\n",
      "minMR: 6.077159440081939 %\n",
      "minFDE: 0.9490777385425088 m\n",
      "minMR: 6.91912108461898 %\n",
      "minFDE: 0.9336299571235649 m\n",
      "minMR: 6.159420289855073 %\n",
      "minFDE: 0.9569673720859038 m\n",
      "minMR: 7.075075075075075 %\n",
      "minFDE: 0.9403239390114713 m\n",
      "minMR: 6.282282282282282 %\n",
      "minFDE: 0.9657548546032627 m\n",
      "minMR: 7.2284690473248485 %\n",
      "minFDE: 0.9458149559617748 m\n",
      "minMR: 6.400593105152601 %\n",
      "minFDE: 0.9733882341132654 m\n",
      "minMR: 7.389977105062324 %\n",
      "minFDE: 0.9510697722338528 m\n",
      "minMR: 6.512337827524803 %\n",
      "minFDE: 0.9831766161726798 m\n",
      "minMR: 7.587472153059887 %\n",
      "minFDE: 0.9574244025999911 m\n",
      "minMR: 6.6308478574236664 %\n",
      "minFDE: 0.9918730408566112 m\n",
      "minMR: 7.8108108108108105 %\n",
      "minFDE: 0.9619121551292095 m\n",
      "minMR: 6.729729729729731 %\n",
      "minFDE: 1.0007921566913847 m\n",
      "minMR: 8.0078125 %\n",
      "minFDE: 0.9685098905710829 m\n",
      "minMR: 6.849888392857142 %\n",
      "minFDE: 1.0111996341576308 m\n",
      "minMR: 8.216808418624765 %\n",
      "minFDE: 0.9743783430132738 m\n",
      "minMR: 6.962663975782038 %\n",
      "minFDE: 1.0210429057435644 m\n",
      "minMR: 8.470026841634358 %\n",
      "minFDE: 0.9804844210666488 m\n",
      "minMR: 7.1130331046823745 %\n",
      "minFDE: 1.0312808334837313 m\n",
      "minMR: 8.71042471042471 %\n",
      "minFDE: 0.9852567954662279 m\n",
      "minMR: 7.258687258687259 %\n",
      "minFDE: 1.0411215177567048 m\n",
      "minMR: 8.954028511933366 %\n",
      "minFDE: 0.9918031024461327 m\n",
      "minMR: 7.448342143200384 %\n",
      "minFDE: 1.0537200342525663 m\n",
      "minMR: 9.26480372588157 %\n",
      "minFDE: 1.0012581339220585 m\n",
      "minMR: 7.667997338656021 %\n",
      "minFDE: 1.0670035613107705 m\n",
      "minMR: 9.548521017125065 %\n",
      "minFDE: 1.0081413372776051 m\n",
      "minMR: 7.870610620999827 %\n",
      "minFDE: 1.0770559565353608 m\n",
      "minMR: 9.873873873873874 %\n",
      "minFDE: 1.0139264413686555 m\n",
      "minMR: 8.036036036036036 %\n",
      "minFDE: 1.0892350247785154 m\n",
      "minMR: 10.172997367431364 %\n",
      "minFDE: 1.020380680328513 m\n",
      "minMR: 8.236179014667169 %\n",
      "minFDE: 1.101317733449082 m\n",
      "minMR: 10.477688224886966 %\n",
      "minFDE: 1.028417425294434 m\n",
      "minMR: 8.492235109101632 %\n",
      "minFDE: 1.1112858928739373 m\n",
      "minMR: 10.770181219110379 %\n",
      "minFDE: 1.0364566610313881 m\n",
      "minMR: 8.772652388797365 %\n",
      "minFDE: 1.127259289774993 m\n",
      "minMR: 11.264864864864865 %\n",
      "minFDE: 1.0442201081094822 m\n",
      "minMR: 8.994594594594595 %\n",
      "minFDE: 1.1406693511918933 m\n",
      "minMR: 11.700432506259958 %\n",
      "minFDE: 1.0499819763928038 m\n",
      "minMR: 9.264739358069656 %\n",
      "minFDE: 1.1526617792068414 m\n",
      "minMR: 12.061508889956752 %\n",
      "minFDE: 1.0609969141829658 m\n",
      "minMR: 9.56271023546372 %\n",
      "minFDE: 1.1703911143116525 m\n",
      "minMR: 12.51589926227423 %\n",
      "minFDE: 1.0738550153008437 m\n",
      "minMR: 9.972017298397354 %\n",
      "minFDE: 1.1910402690852306 m\n",
      "minMR: 13.054054054054054 %\n",
      "minFDE: 1.083437125857374 m\n",
      "minMR: 10.08108108108108 %\n",
      "minFDE: 1.2129210899044294 m\n",
      "minMR: 13.610149942329874 %\n",
      "minFDE: 1.0952212969843405 m\n",
      "minMR: 10.46712802768166 %\n",
      "minFDE: 1.2362614251092126 m\n",
      "minMR: 14.17979610750695 %\n",
      "minFDE: 1.1138282698115338 m\n",
      "minMR: 10.9978375038616 %\n",
      "minFDE: 1.263991943281585 m\n",
      "minMR: 15.06986027944112 %\n",
      "minFDE: 1.1252285608804489 m\n",
      "minMR: 11.410512308715901 %\n",
      "minFDE: 1.2886968822916067 m\n",
      "minMR: 15.747747747747749 %\n",
      "minFDE: 1.1409929939439498 m\n",
      "minMR: 11.855855855855856 %\n",
      "minFDE: 1.3135217912579906 m\n",
      "minMR: 16.397955171057806 %\n",
      "minFDE: 1.1643371530420974 m\n",
      "minMR: 12.38694455367676 %\n",
      "minFDE: 1.3386716722623344 m\n",
      "minMR: 17.257785467128027 %\n",
      "minFDE: 1.1838047976253845 m\n",
      "minMR: 12.975778546712801 %\n",
      "minFDE: 1.365954246788412 m\n",
      "minMR: 18.02018260451706 %\n",
      "minFDE: 1.2097333288860213 m\n",
      "minMR: 13.743392599711676 %\n",
      "minFDE: 1.3932053471654091 m\n",
      "minMR: 18.91891891891892 %\n",
      "minFDE: 1.235696264788469 m\n",
      "minMR: 14.216216216216216 %\n",
      "minFDE: 1.420082057378986 m\n",
      "minMR: 19.406674907292953 %\n",
      "minFDE: 1.2669339754553208 m\n",
      "minMR: 15.080346106304079 %\n",
      "minFDE: 1.4574629698755883 m\n",
      "minMR: 20.331651045421772 %\n",
      "minFDE: 1.3044754374549232 m\n",
      "minMR: 15.573179524152847 %\n",
      "minFDE: 1.511145920751764 m\n",
      "minMR: 22.491349480968857 %\n",
      "minFDE: 1.3346154265224972 m\n",
      "minMR: 16.34948096885813 %\n",
      "minFDE: 1.5687702880119556 m\n",
      "minMR: 24.0 %\n",
      "minFDE: 1.399347743747206 m\n",
      "minMR: 18.16216216216216 %\n",
      "minFDE: 1.6229589077549464 m\n",
      "minMR: 25.82972582972583 %\n",
      "minFDE: 1.449571065716889 m\n",
      "minMR: 19.336219336219337 %\n",
      "minFDE: 1.7863197207148866 m\n",
      "minMR: 31.16883116883117 %\n",
      "minFDE: 1.593103107822536 m\n",
      "minMR: 22.51082251082251 %\n",
      "minFDE: 1.9313439422003413 m\n",
      "minMR: 33.33333333333333 %\n",
      "minFDE: 1.907461576096256 m\n",
      "minMR: 28.57142857142857 %\n"
     ]
    }
   ],
   "source": [
    "ind_list = np.linspace(0,11794, 52).astype(int).tolist()[1:]\n",
    "Ua_cali = np.zeros(len(ind_list))\n",
    "Um_cali = np.zeros(len(ind_list))\n",
    "ind_list.reverse()\n",
    "for ind in ind_list:\n",
    "    tinda = np.argsort(Uav)[-ind:]\n",
    "    tindm = np.argsort(Umv)[-ind:]\n",
    "    fdea, mra = ComputeError(Yp[tinda], Y[tinda], r=2, sh=2)\n",
    "    fdem, mrm = ComputeError(Yp[tindm], Y[tindm], r=2, sh=2)\n",
    "    Ua_cali[ind_list.index(ind)] = np.mean(mra)*100\n",
    "    Um_cali[ind_list.index(ind)] = np.mean(mrm)*100"
   ]
  },
  {
   "cell_type": "code",
   "execution_count": null,
   "id": "e4909eb1",
   "metadata": {},
   "outputs": [],
   "source": [
    "ind_list = np.linspace(0,11794, 52).astype(int).tolist()[1:]\n",
    "Ua_cali = np.zeros(len(ind_list))\n",
    "Um_cali = np.zeros(len(ind_list))\n",
    "ind_list.reverse()\n",
    "for ind in ind_list:\n",
    "    tinda = np.argsort(Uav)[-ind:]\n",
    "    tindm = np.argsort(Umv)[-ind:]\n",
    "    nlla = ComputeNLL(H[tinda], Y[tinda])\n",
    "    nllm = ComputeNLL(H[tindm], Y[tindm])\n",
    "    Ua_cali[ind_list.index(ind)] = np.mean(nlla)\n",
    "    Um_cali[ind_list.index(ind)] = np.mean(nllm)"
   ]
  },
  {
   "cell_type": "code",
   "execution_count": 6,
   "id": "39882dc4",
   "metadata": {},
   "outputs": [
    {
     "data": {
      "image/png": "[encoded data removed]",
      "text/plain": [
       "<Figure size 360x288 with 1 Axes>"
      ]
     },
     "metadata": {
      "needs_background": "light"
     },
     "output_type": "display_data"
    }
   ],
   "source": [
    "plt.figure(figsize=(5,4))\n",
    "xaxis = np.linspace(0,1,51)\n",
    "plt.plot(xaxis, 100-Ua_cali, color='red', label='aleatoric')\n",
    "plt.plot(xaxis, 100-Um_cali, color='blue', label='epistemic')\n",
    "plt.scatter(xaxis[0:-1:2], 100-Ua_cali[0:-1:2], color='red')\n",
    "plt.scatter(xaxis[0:-1:2], 100-Um_cali[0:-1:2], color='blue')\n",
    "plt.xlim(0,1)\n",
    "plt.xlabel('percentile', fontsize=16)\n",
    "plt.ylabel('Hitting Rate(%)', fontsize=16)\n",
    "plt.xticks(fontsize=12)\n",
    "plt.yticks(fontsize=12)\n",
    "plt.legend(fontsize=14, loc=3)\n",
    "plt.title('HR2%-Recall curve',fontsize=14)\n",
    "#plt.ylim(0,9)\n",
    "#plt.yscale('log')\n",
    "plt.savefig('./figs/recall.png', dpi=400, bbox_inches = \"tight\")\n",
    "plt.show()"
   ]
  },
  {
   "cell_type": "code",
   "execution_count": null,
   "id": "34926a35",
   "metadata": {},
   "outputs": [],
   "source": [
    "import math\n",
    "np.mean((np.exp(2*Uat)/(2*math.pi*math.e))**0.25)"
   ]
  },
  {
   "cell_type": "code",
   "execution_count": null,
   "id": "d12d4d04",
   "metadata": {},
   "outputs": [],
   "source": [
    "mr = np.exp(-math.pi*math.e*1*1.17/(np.exp(Uav)))"
   ]
  },
  {
   "cell_type": "code",
   "execution_count": null,
   "id": "35fca033",
   "metadata": {},
   "outputs": [],
   "source": [
    "print('lower bound of MR-1 is:', np.mean(mr)*100)"
   ]
  },
  {
   "cell_type": "code",
   "execution_count": null,
   "id": "857d959a",
   "metadata": {},
   "outputs": [],
   "source": [
    "from heatmap_model.utils import *\n",
    "data = np.load('./results/val_results_f.npz', allow_pickle=True)\n",
    "H = data['heatmap']"
   ]
  },
  {
   "cell_type": "code",
   "execution_count": null,
   "id": "424153c0",
   "metadata": {
    "scrolled": true
   },
   "outputs": [],
   "source": [
    "radius = np.arange(0.5,6.2,0.2)\n",
    "mr_lb = np.zeros(len(radius))\n",
    "mr_dnn = np.zeros(len(radius))\n",
    "for i in range(len(radius)):\n",
    "    r = radius[i]\n",
    "    _, MR = ComputeError(Yp[:,1:2],Y, r=r, sh=1)\n",
    "    mr_lb[i] = np.mean(np.exp(-math.pi*math.e*r*r/(np.exp(Uav))))\n",
    "    mr_dnn[i] = np.mean(MR)"
   ]
  },
  {
   "cell_type": "code",
   "execution_count": null,
   "id": "09f0fd04",
   "metadata": {
    "scrolled": true
   },
   "outputs": [],
   "source": [
    "r_mid = np.arange(0.5,6.2,0.2)\n",
    "mr_mid = np.zeros(len(r_mid))\n",
    "for i in range(len(r_mid)):\n",
    "    r = r_mid[i]\n",
    "    print(r,end='\\r')\n",
    "    mr_mid[i] = MR_lim_gpu(H, r)\n",
    "    print(mr_mid[i])"
   ]
  },
  {
   "cell_type": "code",
   "execution_count": null,
   "id": "63c53e25",
   "metadata": {},
   "outputs": [],
   "source": [
    "from scipy.interpolate import make_interp_spline, BSpline\n",
    "\n",
    "# 300 represents number of points to make between T.min and T.max\n",
    "xnew = np.linspace(r_mid.min(), r_mid.max(), 20) \n",
    "\n",
    "spl = make_interp_spline(r_mid, mr_mid, k=2)  # type: BSpline\n",
    "mr_smooth = spl(xnew)"
   ]
  },
  {
   "cell_type": "code",
   "execution_count": null,
   "id": "a6585e0f",
   "metadata": {},
   "outputs": [],
   "source": [
    "plt.figure(figsize=(5,4))\n",
    "plt.plot(radius, mr_dnn*100, label='prediction MR',c='green',linewidth=1.3, linestyle='--')\n",
    "plt.plot(xnew, mr_smooth*100, label='optimal sampling MR',c='blue',linewidth=1.3,linestyle='--')\n",
    "plt.plot(radius, mr_lb*100, label='MR lower bound',c='black',linewidth=1.3)\n",
    "plt.xlabel('radius(m)', fontsize=16)\n",
    "plt.ylabel('MR%', fontsize=16)\n",
    "plt.xlim(0,6)\n",
    "plt.ylim(0,100)\n",
    "plt.grid(color='lightgrey')\n",
    "plt.xticks(np.arange(0, 6, 1))\n",
    "plt.yticks(np.arange(0, 101, 10))\n",
    "plt.xticks(fontsize=12)\n",
    "plt.yticks(fontsize=12)\n",
    "plt.legend(fontsize=11, loc=1)\n",
    "plt.savefig('./figs/lbMR.png', dpi=400, bbox_inches = \"tight\")\n",
    "plt.show()"
   ]
  },
  {
   "cell_type": "code",
   "execution_count": null,
   "id": "2f73bab1",
   "metadata": {},
   "outputs": [],
   "source": [
    "def ComputeNLL(H, Y):\n",
    "    nll = np.zeros(len(Y))\n",
    "    for i in range(len(H)):\n",
    "        hp = H[i]/np.sum(H[i])\n",
    "        x, y = Y[i,0], Y[i,1]\n",
    "        indx, indy = int((x+23)/0.5)+1, int((y+12)/0.5)+1\n",
    "        nll[i] = -np.log(hp[indx, indy])\n",
    "    return nll"
   ]
  },
  {
   "cell_type": "code",
   "execution_count": null,
   "id": "d3e5d6fc",
   "metadata": {},
   "outputs": [],
   "source": [
    "nll = ComputeNLL(H, Y)\n",
    "Uav[Uav<1.5]=1.5"
   ]
  },
  {
   "cell_type": "code",
   "execution_count": null,
   "id": "15e71892",
   "metadata": {},
   "outputs": [],
   "source": [
    "from scipy.stats import gaussian_kde\n",
    "fig, ax = plt.subplots(figsize=(5,4))\n",
    "#xy = np.vstack([Uav,nll])\n",
    "#z = gaussian_kde(xy)(xy)\n",
    "ax.scatter(Uav, nll, c=Umv/np.amax(Umv), s=10, alpha=0.3, cmap='rainbow')\n",
    "lims = [\n",
    "    np.min([ax.get_xlim(), ax.get_ylim()]),  # min of both axes\n",
    "    np.max([ax.get_xlim(), ax.get_ylim()]),  # max of both axes\n",
    "]\n",
    "# now plot both limits against eachother\n",
    "ax.plot(lims, lims, '--', alpha=0.75, zorder=0, label='y=x')\n",
    "plt.xlim(1.5,6)\n",
    "plt.ylim(1.5,16)\n",
    "plt.xlabel('Aleatoric', fontsize=16)\n",
    "plt.ylabel('NLL Loss', fontsize=16)\n",
    "plt.xticks(fontsize=12)\n",
    "plt.yticks(fontsize=12)\n",
    "ax.legend(fontsize=14, loc=1)\n",
    "#plt.savefig('./figs/lbNLL.png', dpi=400, bbox_inches = \"tight\")\n",
    "plt.show()"
   ]
  },
  {
   "cell_type": "code",
   "execution_count": null,
   "id": "ec037120",
   "metadata": {},
   "outputs": [],
   "source": [
    "data = np.load('./interaction_merge/test.npz', allow_pickle=True)\n",
    "T = data['trajectory']\n",
    "data = np.load('./interaction_merge/val.npz', allow_pickle=True)\n",
    "Tv = data['trajectory']"
   ]
  },
  {
   "cell_type": "code",
   "execution_count": null,
   "id": "081a266d",
   "metadata": {},
   "outputs": [],
   "source": [
    "V = np.sqrt(T[:,0,-1,4]**2+ T[:,0,-1,5]**2)\n",
    "Vv = np.sqrt(Tv[:,0,-1,4]**2+ Tv[:,0,-1,5]**2)"
   ]
  },
  {
   "cell_type": "code",
   "execution_count": null,
   "id": "39f2d0ae",
   "metadata": {},
   "outputs": [],
   "source": [
    "V_in = np.array([V[i] for i in range(len(V)) if file_id[i] not in [4,5,6,7,8,9]])\n",
    "#V_st = np.array([V[i] for i in range(len(V)) if file_id[i] in [4,7,8,9]])\n",
    "V_out = np.array([V[i] for i in range(len(V)) if file_id[i] in [4,5,6,7,8,9]])\n",
    "#U_out = np.array([Umt[i] for i in range(len(Uat)) if file_id[i] in [7,8]])"
   ]
  },
  {
   "cell_type": "code",
   "execution_count": null,
   "id": "0d0deefc",
   "metadata": {},
   "outputs": [],
   "source": [
    "plt.scatter(Vv, Umv, s=0.5, alpha=0.1)\n",
    "plt.scatter(V_in, Um_in, s=0.5, alpha=0.1)\n",
    "plt.scatter(V_out, Um_out, s=0.5, alpha=0.1)\n",
    "plt.ylim(0,1)\n",
    "plt.show()"
   ]
  },
  {
   "cell_type": "code",
   "execution_count": null,
   "id": "5fd08d4d",
   "metadata": {},
   "outputs": [],
   "source": [
    "#plt.scatter(Vv, Umv, s=0.5, alpha=0.5)\n",
    "plt.scatter(V_in, Um_in, s=0.5, alpha=0.5)\n",
    "#plt.scatter(V_out, Um_out, s=0.5, alpha=0.5)\n",
    "plt.ylim(0,1)\n",
    "plt.show()"
   ]
  },
  {
   "cell_type": "code",
   "execution_count": null,
   "id": "298491df",
   "metadata": {},
   "outputs": [],
   "source": [
    "#plt.scatter(Vv, Umv, s=0.5, alpha=0.5)\n",
    "#plt.scatter(V_in, Um_in, s=0.5, alpha=0.5)\n",
    "plt.scatter(V_out, Um_out, s=0.5, alpha=0.5)\n",
    "plt.ylim(0,1)\n",
    "plt.show()"
   ]
  },
  {
   "cell_type": "code",
   "execution_count": null,
   "id": "28af87fe",
   "metadata": {},
   "outputs": [],
   "source": [
    "from scipy.stats import gaussian_kde\n",
    "fig, ax = plt.subplots(figsize=(5,4))\n",
    "# xy1 = np.vstack([Vv,Umv])\n",
    "# z1 = gaussian_kde(xy1)(xy1)\n",
    "# xy2 = np.vstack([V_in,Um_in])\n",
    "# z2 = gaussian_kde(xy2)(xy2)\n",
    "xy3 = np.vstack([V_out,Um_out])\n",
    "z3 = gaussian_kde(xy3)(xy3)\n",
    "#ax.scatter(Vv, Umv, c=z1, s=10, alpha=0.3, cmap='rainbow')\n",
    "#ax.scatter(V_in, Um_in, c=z2, s=10, alpha=0.3, cmap='rainbow')\n",
    "ax.scatter(V_out, Um_out, c=z3, s=10, alpha=0.3, cmap='rainbow')\n",
    "plt.xlim(0,30)\n",
    "plt.ylim(0, 1)\n",
    "plt.xlabel('Speed(m/s)', fontsize=16)\n",
    "plt.ylabel('Epistemic(nats)', fontsize=16)\n",
    "plt.xticks(fontsize=12)\n",
    "plt.yticks(fontsize=12)\n",
    "plt.title('OOD')\n",
    "#ax.legend(fontsize=14, loc=1)\n",
    "plt.savefig('./figs/v3.png', dpi=400, bbox_inches = \"tight\")\n",
    "plt.show()"
   ]
  },
  {
   "cell_type": "code",
   "execution_count": null,
   "id": "50e96bf9",
   "metadata": {},
   "outputs": [],
   "source": [
    "os.listdir('./interaction_data/data/test')"
   ]
  },
  {
   "cell_type": "code",
   "execution_count": null,
   "id": "a3692795",
   "metadata": {},
   "outputs": [],
   "source": [
    "from scipy.special import gamma\n",
    "np.mean(np.sqrt(np.exp(Uav-1)/np.pi)*gamma(1.5))-0.6*np.sqrt(2)*gamma(1.5)"
   ]
  },
  {
   "cell_type": "code",
   "execution_count": null,
   "id": "41485374",
   "metadata": {},
   "outputs": [],
   "source": [
    "np.mean(np.abs(Yp[:,1]-Y))"
   ]
  },
  {
   "cell_type": "code",
   "execution_count": null,
   "id": "e8b1b2f8",
   "metadata": {},
   "outputs": [],
   "source": [
    "np.log(2*math.pi*math.e*0.36)"
   ]
  },
  {
   "cell_type": "code",
   "execution_count": null,
   "id": "63683c4f",
   "metadata": {},
   "outputs": [],
   "source": [
    "Vt = []\n",
    "for i in range(1,5):\n",
    "    data = np.load('./interaction_merge/train'+str(i)+'.npz', allow_pickle=True)\n",
    "    v = np.sqrt(data['trajectory'][:,0,-1,4]**2+data['trajectory'][:,0,-1,5]**2)\n",
    "    Vt.append(v)\n",
    "Vt = np.concatenate(Vt,0)"
   ]
  },
  {
   "cell_type": "code",
   "execution_count": null,
   "id": "bbaa4882",
   "metadata": {},
   "outputs": [],
   "source": [
    "data = np.load('./interaction_merge/test.npz', allow_pickle=True)\n",
    "V = np.sqrt(data['trajectory'][:,0,-1,4]**2+data['trajectory'][:,0,-1,5]**2)"
   ]
  },
  {
   "cell_type": "code",
   "execution_count": null,
   "id": "6b4f947c",
   "metadata": {},
   "outputs": [],
   "source": [
    "data = np.load('./interaction_merge/val.npz', allow_pickle=True)\n",
    "Vr = np.sqrt(data['trajectory'][:,0,-1,4]**2+data['trajectory'][:,0,-1,5]**2)"
   ]
  },
  {
   "cell_type": "code",
   "execution_count": null,
   "id": "6584857c",
   "metadata": {},
   "outputs": [],
   "source": [
    "plt.figure(figsize=(5, 2))\n",
    "plt.hist(Vt,bins=50, density=True, histtype='step')\n",
    "#plt.hist(V,bins=50, density=True, histtype='step')\n",
    "plt.hist(Vr,bins=50, density=True, histtype='step')\n",
    "plt.title('speed distribution of the training set')\n",
    "#plt.xlabel('speed (m/s)')\n",
    "#plt.ylabel('probability density')\n",
    "plt.xlim(-1, 25)\n",
    "#plt.savefig('./figs/vtest.jpg', dpi=200, bbox_inches = \"tight\")\n",
    "plt.show()"
   ]
  },
  {
   "cell_type": "code",
   "execution_count": null,
   "id": "f4998315",
   "metadata": {},
   "outputs": [],
   "source": [
    "mse = np.exp(Uav)/2/math.pi/math.e-(0.7)**2"
   ]
  },
  {
   "cell_type": "code",
   "execution_count": null,
   "id": "2c26d999",
   "metadata": {},
   "outputs": [],
   "source": [
    "plt.hist(mse,bins=50, density=True, histtype='step')\n",
    "plt.show()"
   ]
  },
  {
   "cell_type": "code",
   "execution_count": null,
   "id": "0fd11d77",
   "metadata": {},
   "outputs": [],
   "source": [
    "np.amax(mse)"
   ]
  },
  {
   "cell_type": "code",
   "execution_count": null,
   "id": "0c9961eb",
   "metadata": {},
   "outputs": [],
   "source": [
    "np.mean(mse)**0.5"
   ]
  },
  {
   "cell_type": "code",
   "execution_count": null,
   "id": "41a65c12",
   "metadata": {},
   "outputs": [],
   "source": [
    "0.55**0.5"
   ]
  },
  {
   "cell_type": "code",
   "execution_count": null,
   "id": "4eef031e",
   "metadata": {},
   "outputs": [],
   "source": []
  }
 ],
 "metadata": {
  "kernelspec": {
   "display_name": "Python 3 (ipykernel)",
   "language": "python",
   "name": "python3"
  },
  "language_info": {
   "codemirror_mode": {
    "name": "ipython",
    "version": 3
   },
   "file_extension": ".py",
   "mimetype": "text/x-python",
   "name": "python",
   "nbconvert_exporter": "python",
   "pygments_lexer": "ipython3",
   "version": "3.9.12"
  }
 },
 "nbformat": 4,
 "nbformat_minor": 5
}
